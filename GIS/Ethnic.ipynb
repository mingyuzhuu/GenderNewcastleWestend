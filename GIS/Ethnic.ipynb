{
 "cells": [
  {
   "cell_type": "code",
   "execution_count": 1,
   "id": "073b710a",
   "metadata": {},
   "outputs": [],
   "source": [
    "import os \n",
    "import pandas as pd\n",
    "from matplotlib import pyplot as plt"
   ]
  },
  {
   "cell_type": "code",
   "execution_count": 2,
   "id": "f702e1e7",
   "metadata": {},
   "outputs": [],
   "source": [
    "df= pd.read_csv('TS021-2021-3-filtered-2024-11-21T17_12_47Z.csv')"
   ]
  },
  {
   "cell_type": "code",
   "execution_count": 3,
   "id": "588be2e5",
   "metadata": {},
   "outputs": [
    {
     "data": {
      "text/html": [
       "<div>\n",
       "<style scoped>\n",
       "    .dataframe tbody tr th:only-of-type {\n",
       "        vertical-align: middle;\n",
       "    }\n",
       "\n",
       "    .dataframe tbody tr th {\n",
       "        vertical-align: top;\n",
       "    }\n",
       "\n",
       "    .dataframe thead th {\n",
       "        text-align: right;\n",
       "    }\n",
       "</style>\n",
       "<table border=\"1\" class=\"dataframe\">\n",
       "  <thead>\n",
       "    <tr style=\"text-align: right;\">\n",
       "      <th></th>\n",
       "      <th>Lower layer Super Output Areas Code</th>\n",
       "      <th>Lower layer Super Output Areas</th>\n",
       "      <th>Ethnic group (20 categories) Code</th>\n",
       "      <th>Ethnic group (20 categories)</th>\n",
       "      <th>Observation</th>\n",
       "    </tr>\n",
       "  </thead>\n",
       "  <tbody>\n",
       "    <tr>\n",
       "      <th>0</th>\n",
       "      <td>E01008288</td>\n",
       "      <td>Newcastle upon Tyne 027A</td>\n",
       "      <td>-8</td>\n",
       "      <td>Does not apply</td>\n",
       "      <td>0</td>\n",
       "    </tr>\n",
       "    <tr>\n",
       "      <th>1</th>\n",
       "      <td>E01008288</td>\n",
       "      <td>Newcastle upon Tyne 027A</td>\n",
       "      <td>1</td>\n",
       "      <td>Asian, Asian British or Asian Welsh: Bangladeshi</td>\n",
       "      <td>29</td>\n",
       "    </tr>\n",
       "    <tr>\n",
       "      <th>2</th>\n",
       "      <td>E01008288</td>\n",
       "      <td>Newcastle upon Tyne 027A</td>\n",
       "      <td>2</td>\n",
       "      <td>Asian, Asian British or Asian Welsh: Chinese</td>\n",
       "      <td>11</td>\n",
       "    </tr>\n",
       "    <tr>\n",
       "      <th>3</th>\n",
       "      <td>E01008288</td>\n",
       "      <td>Newcastle upon Tyne 027A</td>\n",
       "      <td>3</td>\n",
       "      <td>Asian, Asian British or Asian Welsh: Indian</td>\n",
       "      <td>36</td>\n",
       "    </tr>\n",
       "    <tr>\n",
       "      <th>4</th>\n",
       "      <td>E01008288</td>\n",
       "      <td>Newcastle upon Tyne 027A</td>\n",
       "      <td>4</td>\n",
       "      <td>Asian, Asian British or Asian Welsh: Pakistani</td>\n",
       "      <td>52</td>\n",
       "    </tr>\n",
       "  </tbody>\n",
       "</table>\n",
       "</div>"
      ],
      "text/plain": [
       "  Lower layer Super Output Areas Code Lower layer Super Output Areas  \\\n",
       "0                           E01008288       Newcastle upon Tyne 027A   \n",
       "1                           E01008288       Newcastle upon Tyne 027A   \n",
       "2                           E01008288       Newcastle upon Tyne 027A   \n",
       "3                           E01008288       Newcastle upon Tyne 027A   \n",
       "4                           E01008288       Newcastle upon Tyne 027A   \n",
       "\n",
       "   Ethnic group (20 categories) Code  \\\n",
       "0                                 -8   \n",
       "1                                  1   \n",
       "2                                  2   \n",
       "3                                  3   \n",
       "4                                  4   \n",
       "\n",
       "                       Ethnic group (20 categories)  Observation  \n",
       "0                                    Does not apply            0  \n",
       "1  Asian, Asian British or Asian Welsh: Bangladeshi           29  \n",
       "2      Asian, Asian British or Asian Welsh: Chinese           11  \n",
       "3       Asian, Asian British or Asian Welsh: Indian           36  \n",
       "4    Asian, Asian British or Asian Welsh: Pakistani           52  "
      ]
     },
     "execution_count": 3,
     "metadata": {},
     "output_type": "execute_result"
    }
   ],
   "source": [
    "df.head()"
   ]
  },
  {
   "cell_type": "code",
   "execution_count": 4,
   "id": "7235250b",
   "metadata": {},
   "outputs": [],
   "source": [
    "name = ['Newcastle upon Tyne 039D','Newcastle upon Tyne 038A','Newcastle upon Tyne 038B','Newcastle upon Tyne 038C'\n",
    "        ,'Newcastle upon Tyne 038D','Newcastle upon Tyne 038E','Newcastle upon Tyne 027D','Newcastle upon Tyne 041A',\n",
    "        'Newcastle upon Tyne 041B', 'Newcastle upon Tyne 041C']  #All the LSOA in Elswick"
   ]
  },
  {
   "cell_type": "code",
   "execution_count": 5,
   "id": "72514ad3",
   "metadata": {},
   "outputs": [],
   "source": [
    "df = df[df['Lower layer Super Output Areas'].isin(name)]"
   ]
  },
  {
   "cell_type": "code",
   "execution_count": 6,
   "id": "994d2744",
   "metadata": {},
   "outputs": [
    {
     "data": {
      "text/html": [
       "<div>\n",
       "<style scoped>\n",
       "    .dataframe tbody tr th:only-of-type {\n",
       "        vertical-align: middle;\n",
       "    }\n",
       "\n",
       "    .dataframe tbody tr th {\n",
       "        vertical-align: top;\n",
       "    }\n",
       "\n",
       "    .dataframe thead th {\n",
       "        text-align: right;\n",
       "    }\n",
       "</style>\n",
       "<table border=\"1\" class=\"dataframe\">\n",
       "  <thead>\n",
       "    <tr style=\"text-align: right;\">\n",
       "      <th></th>\n",
       "      <th>Lower layer Super Output Areas Code</th>\n",
       "      <th>Lower layer Super Output Areas</th>\n",
       "      <th>Ethnic group (20 categories) Code</th>\n",
       "      <th>Ethnic group (20 categories)</th>\n",
       "      <th>Observation</th>\n",
       "    </tr>\n",
       "  </thead>\n",
       "  <tbody>\n",
       "    <tr>\n",
       "      <th>60</th>\n",
       "      <td>E01008291</td>\n",
       "      <td>Newcastle upon Tyne 027D</td>\n",
       "      <td>-8</td>\n",
       "      <td>Does not apply</td>\n",
       "      <td>0</td>\n",
       "    </tr>\n",
       "    <tr>\n",
       "      <th>61</th>\n",
       "      <td>E01008291</td>\n",
       "      <td>Newcastle upon Tyne 027D</td>\n",
       "      <td>1</td>\n",
       "      <td>Asian, Asian British or Asian Welsh: Bangladeshi</td>\n",
       "      <td>138</td>\n",
       "    </tr>\n",
       "    <tr>\n",
       "      <th>62</th>\n",
       "      <td>E01008291</td>\n",
       "      <td>Newcastle upon Tyne 027D</td>\n",
       "      <td>2</td>\n",
       "      <td>Asian, Asian British or Asian Welsh: Chinese</td>\n",
       "      <td>30</td>\n",
       "    </tr>\n",
       "    <tr>\n",
       "      <th>63</th>\n",
       "      <td>E01008291</td>\n",
       "      <td>Newcastle upon Tyne 027D</td>\n",
       "      <td>3</td>\n",
       "      <td>Asian, Asian British or Asian Welsh: Indian</td>\n",
       "      <td>19</td>\n",
       "    </tr>\n",
       "    <tr>\n",
       "      <th>64</th>\n",
       "      <td>E01008291</td>\n",
       "      <td>Newcastle upon Tyne 027D</td>\n",
       "      <td>4</td>\n",
       "      <td>Asian, Asian British or Asian Welsh: Pakistani</td>\n",
       "      <td>55</td>\n",
       "    </tr>\n",
       "    <tr>\n",
       "      <th>65</th>\n",
       "      <td>E01008291</td>\n",
       "      <td>Newcastle upon Tyne 027D</td>\n",
       "      <td>5</td>\n",
       "      <td>Asian, Asian British or Asian Welsh: Other Asian</td>\n",
       "      <td>82</td>\n",
       "    </tr>\n",
       "    <tr>\n",
       "      <th>66</th>\n",
       "      <td>E01008291</td>\n",
       "      <td>Newcastle upon Tyne 027D</td>\n",
       "      <td>6</td>\n",
       "      <td>Black, Black British, Black Welsh, Caribbean o...</td>\n",
       "      <td>286</td>\n",
       "    </tr>\n",
       "    <tr>\n",
       "      <th>67</th>\n",
       "      <td>E01008291</td>\n",
       "      <td>Newcastle upon Tyne 027D</td>\n",
       "      <td>7</td>\n",
       "      <td>Black, Black British, Black Welsh, Caribbean o...</td>\n",
       "      <td>4</td>\n",
       "    </tr>\n",
       "    <tr>\n",
       "      <th>68</th>\n",
       "      <td>E01008291</td>\n",
       "      <td>Newcastle upon Tyne 027D</td>\n",
       "      <td>8</td>\n",
       "      <td>Black, Black British, Black Welsh, Caribbean o...</td>\n",
       "      <td>12</td>\n",
       "    </tr>\n",
       "    <tr>\n",
       "      <th>69</th>\n",
       "      <td>E01008291</td>\n",
       "      <td>Newcastle upon Tyne 027D</td>\n",
       "      <td>9</td>\n",
       "      <td>Mixed or Multiple ethnic groups: White and Asian</td>\n",
       "      <td>13</td>\n",
       "    </tr>\n",
       "    <tr>\n",
       "      <th>70</th>\n",
       "      <td>E01008291</td>\n",
       "      <td>Newcastle upon Tyne 027D</td>\n",
       "      <td>10</td>\n",
       "      <td>Mixed or Multiple ethnic groups: White and Bla...</td>\n",
       "      <td>24</td>\n",
       "    </tr>\n",
       "    <tr>\n",
       "      <th>71</th>\n",
       "      <td>E01008291</td>\n",
       "      <td>Newcastle upon Tyne 027D</td>\n",
       "      <td>11</td>\n",
       "      <td>Mixed or Multiple ethnic groups: White and Bla...</td>\n",
       "      <td>3</td>\n",
       "    </tr>\n",
       "    <tr>\n",
       "      <th>72</th>\n",
       "      <td>E01008291</td>\n",
       "      <td>Newcastle upon Tyne 027D</td>\n",
       "      <td>12</td>\n",
       "      <td>Mixed or Multiple ethnic groups: Other Mixed o...</td>\n",
       "      <td>12</td>\n",
       "    </tr>\n",
       "    <tr>\n",
       "      <th>73</th>\n",
       "      <td>E01008291</td>\n",
       "      <td>Newcastle upon Tyne 027D</td>\n",
       "      <td>13</td>\n",
       "      <td>White: English, Welsh, Scottish, Northern Iris...</td>\n",
       "      <td>998</td>\n",
       "    </tr>\n",
       "    <tr>\n",
       "      <th>74</th>\n",
       "      <td>E01008291</td>\n",
       "      <td>Newcastle upon Tyne 027D</td>\n",
       "      <td>14</td>\n",
       "      <td>White: Irish</td>\n",
       "      <td>11</td>\n",
       "    </tr>\n",
       "    <tr>\n",
       "      <th>75</th>\n",
       "      <td>E01008291</td>\n",
       "      <td>Newcastle upon Tyne 027D</td>\n",
       "      <td>15</td>\n",
       "      <td>White: Gypsy or Irish Traveller</td>\n",
       "      <td>30</td>\n",
       "    </tr>\n",
       "    <tr>\n",
       "      <th>76</th>\n",
       "      <td>E01008291</td>\n",
       "      <td>Newcastle upon Tyne 027D</td>\n",
       "      <td>16</td>\n",
       "      <td>White: Roma</td>\n",
       "      <td>38</td>\n",
       "    </tr>\n",
       "    <tr>\n",
       "      <th>77</th>\n",
       "      <td>E01008291</td>\n",
       "      <td>Newcastle upon Tyne 027D</td>\n",
       "      <td>17</td>\n",
       "      <td>White: Other White</td>\n",
       "      <td>205</td>\n",
       "    </tr>\n",
       "    <tr>\n",
       "      <th>78</th>\n",
       "      <td>E01008291</td>\n",
       "      <td>Newcastle upon Tyne 027D</td>\n",
       "      <td>18</td>\n",
       "      <td>Other ethnic group: Arab</td>\n",
       "      <td>45</td>\n",
       "    </tr>\n",
       "    <tr>\n",
       "      <th>79</th>\n",
       "      <td>E01008291</td>\n",
       "      <td>Newcastle upon Tyne 027D</td>\n",
       "      <td>19</td>\n",
       "      <td>Other ethnic group: Any other ethnic group</td>\n",
       "      <td>96</td>\n",
       "    </tr>\n",
       "  </tbody>\n",
       "</table>\n",
       "</div>"
      ],
      "text/plain": [
       "   Lower layer Super Output Areas Code Lower layer Super Output Areas  \\\n",
       "60                           E01008291       Newcastle upon Tyne 027D   \n",
       "61                           E01008291       Newcastle upon Tyne 027D   \n",
       "62                           E01008291       Newcastle upon Tyne 027D   \n",
       "63                           E01008291       Newcastle upon Tyne 027D   \n",
       "64                           E01008291       Newcastle upon Tyne 027D   \n",
       "65                           E01008291       Newcastle upon Tyne 027D   \n",
       "66                           E01008291       Newcastle upon Tyne 027D   \n",
       "67                           E01008291       Newcastle upon Tyne 027D   \n",
       "68                           E01008291       Newcastle upon Tyne 027D   \n",
       "69                           E01008291       Newcastle upon Tyne 027D   \n",
       "70                           E01008291       Newcastle upon Tyne 027D   \n",
       "71                           E01008291       Newcastle upon Tyne 027D   \n",
       "72                           E01008291       Newcastle upon Tyne 027D   \n",
       "73                           E01008291       Newcastle upon Tyne 027D   \n",
       "74                           E01008291       Newcastle upon Tyne 027D   \n",
       "75                           E01008291       Newcastle upon Tyne 027D   \n",
       "76                           E01008291       Newcastle upon Tyne 027D   \n",
       "77                           E01008291       Newcastle upon Tyne 027D   \n",
       "78                           E01008291       Newcastle upon Tyne 027D   \n",
       "79                           E01008291       Newcastle upon Tyne 027D   \n",
       "\n",
       "    Ethnic group (20 categories) Code  \\\n",
       "60                                 -8   \n",
       "61                                  1   \n",
       "62                                  2   \n",
       "63                                  3   \n",
       "64                                  4   \n",
       "65                                  5   \n",
       "66                                  6   \n",
       "67                                  7   \n",
       "68                                  8   \n",
       "69                                  9   \n",
       "70                                 10   \n",
       "71                                 11   \n",
       "72                                 12   \n",
       "73                                 13   \n",
       "74                                 14   \n",
       "75                                 15   \n",
       "76                                 16   \n",
       "77                                 17   \n",
       "78                                 18   \n",
       "79                                 19   \n",
       "\n",
       "                         Ethnic group (20 categories)  Observation  \n",
       "60                                     Does not apply            0  \n",
       "61   Asian, Asian British or Asian Welsh: Bangladeshi          138  \n",
       "62       Asian, Asian British or Asian Welsh: Chinese           30  \n",
       "63        Asian, Asian British or Asian Welsh: Indian           19  \n",
       "64     Asian, Asian British or Asian Welsh: Pakistani           55  \n",
       "65   Asian, Asian British or Asian Welsh: Other Asian           82  \n",
       "66  Black, Black British, Black Welsh, Caribbean o...          286  \n",
       "67  Black, Black British, Black Welsh, Caribbean o...            4  \n",
       "68  Black, Black British, Black Welsh, Caribbean o...           12  \n",
       "69   Mixed or Multiple ethnic groups: White and Asian           13  \n",
       "70  Mixed or Multiple ethnic groups: White and Bla...           24  \n",
       "71  Mixed or Multiple ethnic groups: White and Bla...            3  \n",
       "72  Mixed or Multiple ethnic groups: Other Mixed o...           12  \n",
       "73  White: English, Welsh, Scottish, Northern Iris...          998  \n",
       "74                                       White: Irish           11  \n",
       "75                    White: Gypsy or Irish Traveller           30  \n",
       "76                                        White: Roma           38  \n",
       "77                                 White: Other White          205  \n",
       "78                           Other ethnic group: Arab           45  \n",
       "79         Other ethnic group: Any other ethnic group           96  "
      ]
     },
     "execution_count": 6,
     "metadata": {},
     "output_type": "execute_result"
    }
   ],
   "source": [
    "df.head(20)"
   ]
  },
  {
   "cell_type": "code",
   "execution_count": 7,
   "id": "05585781",
   "metadata": {},
   "outputs": [
    {
     "data": {
      "text/plain": [
       "array(['Does not apply',\n",
       "       'Asian, Asian British or Asian Welsh: Bangladeshi',\n",
       "       'Asian, Asian British or Asian Welsh: Chinese',\n",
       "       'Asian, Asian British or Asian Welsh: Indian',\n",
       "       'Asian, Asian British or Asian Welsh: Pakistani',\n",
       "       'Asian, Asian British or Asian Welsh: Other Asian',\n",
       "       'Black, Black British, Black Welsh, Caribbean or African: African',\n",
       "       'Black, Black British, Black Welsh, Caribbean or African: Caribbean',\n",
       "       'Black, Black British, Black Welsh, Caribbean or African: Other Black',\n",
       "       'Mixed or Multiple ethnic groups: White and Asian',\n",
       "       'Mixed or Multiple ethnic groups: White and Black African',\n",
       "       'Mixed or Multiple ethnic groups: White and Black Caribbean',\n",
       "       'Mixed or Multiple ethnic groups: Other Mixed or Multiple ethnic groups',\n",
       "       'White: English, Welsh, Scottish, Northern Irish or British',\n",
       "       'White: Irish', 'White: Gypsy or Irish Traveller', 'White: Roma',\n",
       "       'White: Other White', 'Other ethnic group: Arab',\n",
       "       'Other ethnic group: Any other ethnic group'], dtype=object)"
      ]
     },
     "execution_count": 7,
     "metadata": {},
     "output_type": "execute_result"
    }
   ],
   "source": [
    "df['Ethnic group (20 categories)'].unique()"
   ]
  },
  {
   "cell_type": "code",
   "execution_count": 8,
   "id": "817baf41",
   "metadata": {},
   "outputs": [],
   "source": [
    "values_to_include = [1, 2, 3, 4, 5, 6, 7, 8, 15, 16, 17, 18, 19] # None British&Irish\n",
    "noneBI_sum = df[df['Ethnic group (20 categories) Code'].isin(values_to_include)]['Observation'].sum()"
   ]
  },
  {
   "cell_type": "code",
   "execution_count": 9,
   "id": "62325eeb",
   "metadata": {},
   "outputs": [
    {
     "data": {
      "text/plain": [
       "11769"
      ]
     },
     "execution_count": 9,
     "metadata": {},
     "output_type": "execute_result"
    }
   ],
   "source": [
    "noneBI_sum"
   ]
  },
  {
   "cell_type": "code",
   "execution_count": 10,
   "id": "556080ec",
   "metadata": {},
   "outputs": [],
   "source": [
    "values_to_include = [9, 10, 11, 12] # Mixed\n",
    "mixed_sum = df[df['Ethnic group (20 categories) Code'].isin(values_to_include)]['Observation'].sum()"
   ]
  },
  {
   "cell_type": "code",
   "execution_count": 11,
   "id": "1d8715a1",
   "metadata": {},
   "outputs": [
    {
     "data": {
      "text/plain": [
       "522"
      ]
     },
     "execution_count": 11,
     "metadata": {},
     "output_type": "execute_result"
    }
   ],
   "source": [
    "mixed_sum"
   ]
  },
  {
   "cell_type": "code",
   "execution_count": 12,
   "id": "4d398c60",
   "metadata": {},
   "outputs": [],
   "source": [
    "values_to_include = [13, 14] # British&Irish \n",
    "BI_sum = df[df['Ethnic group (20 categories) Code'].isin(values_to_include)]['Observation'].sum()"
   ]
  },
  {
   "cell_type": "code",
   "execution_count": 13,
   "id": "30f6e18e",
   "metadata": {},
   "outputs": [
    {
     "data": {
      "text/plain": [
       "6692"
      ]
     },
     "execution_count": 13,
     "metadata": {},
     "output_type": "execute_result"
    }
   ],
   "source": [
    "BI_sum"
   ]
  },
  {
   "cell_type": "code",
   "execution_count": 19,
   "id": "48d09217",
   "metadata": {},
   "outputs": [
    {
     "data": {
      "image/png": "[encoded data removed]",
      "text/plain": [
       "<Figure size 648x504 with 1 Axes>"
      ]
     },
     "metadata": {
      "needs_background": "light"
     },
     "output_type": "display_data"
    }
   ],
   "source": [
    "categories = ['British or Irish', 'None British or Irish', 'Mixed']\n",
    "counts = [BI_sum, noneBI_sum, mixed_sum]\n",
    "\n",
    "# Create the bar plot\n",
    "plt.figure(figsize=(9, 7))\n",
    "plt.bar(categories, counts, color=['#7E9FBF', '#B8C4C2', '#8FA7A2'], width=0.4)\n",
    "\n",
    "# Add titles and labels\n",
    "plt.title('Counts by Ethnic Category', fontsize=15)\n",
    "plt.xlabel('Ethnic Categories', fontsize=15)\n",
    "plt.xticks(fontsize=14)\n",
    "plt.ylabel('Counts', fontsize=15)\n",
    "plt.yticks(fontsize=14)\n",
    "\n",
    "# Display the count on top of each bar\n",
    "for i, count in enumerate(counts):\n",
    "    plt.text(i, count + 200, str(count), ha='center', fontsize=12)\n",
    "\n",
    "# Show the plot\n",
    "plt.tight_layout()\n",
    "plt.savefig('ethnic_category_counts.png', dpi=300, bbox_inches='tight')\n",
    "\n",
    "plt.show()"
   ]
  },
  {
   "cell_type": "code",
   "execution_count": 23,
   "id": "4d13917e",
   "metadata": {},
   "outputs": [
    {
     "data": {
      "image/png": "[encoded data removed]",
      "text/plain": [
       "<Figure size 648x504 with 1 Axes>"
      ]
     },
     "metadata": {
      "needs_background": "light"
     },
     "output_type": "display_data"
    }
   ],
   "source": [
    "import matplotlib.pyplot as plt\n",
    "\n",
    "# Data for the bar plot\n",
    "categories = ['British or Irish', 'None British or Irish', 'Mixed']\n",
    "counts = [BI_sum, noneBI_sum, mixed_sum]\n",
    "\n",
    "# Calculate percentages\n",
    "total = sum(counts)\n",
    "percentages = [(count / total) * 100 for count in counts]\n",
    "\n",
    "# Subtle colour scheme\n",
    "colours = ['#7E9FBF', '#B8C4C2', '#8FA7A2']  # Muted blues and greys\n",
    "\n",
    "# Create the bar plot\n",
    "plt.figure(figsize=(9, 7))\n",
    "plt.bar(categories, percentages, color=colours, width=0.5)\n",
    "\n",
    "# Add titles and labels\n",
    "plt.title('Percentage Distribution by Ethnic Category', fontsize=15)\n",
    "plt.xlabel('Ethnic Categories', fontsize=15)\n",
    "plt.xticks(fontsize=14)\n",
    "plt.ylabel('Percentage (%)', fontsize=15)\n",
    "plt.yticks(fontsize=14)\n",
    "\n",
    "# Display the percentage on top of each bar\n",
    "for i, percentage in enumerate(percentages):\n",
    "    plt.text(i, percentage + 1, f'{percentage:.1f}%', ha='center', fontsize=12)\n",
    "\n",
    "# Save the plot as a high-resolution PNG\n",
    "plt.tight_layout()\n",
    "plt.savefig('ethnic_category_percentage.png', dpi=300, bbox_inches='tight')  # High-res PNG\n",
    "\n",
    "# Show the plot\n",
    "plt.show()\n"
   ]
  },
  {
   "cell_type": "code",
   "execution_count": null,
   "id": "3ff7648a",
   "metadata": {},
   "outputs": [],
   "source": []
  }
 ],
 "metadata": {
  "kernelspec": {
   "display_name": "Python 3",
   "language": "python",
   "name": "python3"
  },
  "language_info": {
   "codemirror_mode": {
    "name": "ipython",
    "version": 3
   },
   "file_extension": ".py",
   "mimetype": "text/x-python",
   "name": "python",
   "nbconvert_exporter": "python",
   "pygments_lexer": "ipython3",
   "version": "3.8.8"
  }
 },
 "nbformat": 4,
 "nbformat_minor": 5
}
